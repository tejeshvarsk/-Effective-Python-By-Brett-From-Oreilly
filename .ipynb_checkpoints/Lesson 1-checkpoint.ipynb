{
 "cells": [
  {
   "cell_type": "code",
   "execution_count": 1,
   "id": "b42a6d06-324d-420a-8b67-ab22081595b0",
   "metadata": {},
   "outputs": [
    {
     "data": {
      "text/plain": [
       "b'esoognam'"
      ]
     },
     "execution_count": 1,
     "metadata": {},
     "output_type": "execute_result"
    }
   ],
   "source": [
    "x=b'mangoose'\n",
    "y=x[::-1]\n",
    "y"
   ]
  },
  {
   "cell_type": "code",
   "execution_count": 2,
   "id": "83738372-c896-4d5c-9c92-0dd4593216ff",
   "metadata": {},
   "outputs": [
    {
     "ename": "UnicodeDecodeError",
     "evalue": "'utf-8' codec can't decode byte 0xbe in position 0: invalid start byte",
     "output_type": "error",
     "traceback": [
      "\u001b[1;31m---------------------------------------------------------------------------\u001b[0m",
      "\u001b[1;31mUnicodeDecodeError\u001b[0m                        Traceback (most recent call last)",
      "Cell \u001b[1;32mIn[2], line 4\u001b[0m\n\u001b[0;32m      2\u001b[0m x\u001b[38;5;241m=\u001b[39mw\u001b[38;5;241m.\u001b[39mencode(\u001b[38;5;124m'\u001b[39m\u001b[38;5;124mutf-8\u001b[39m\u001b[38;5;124m'\u001b[39m)\n\u001b[0;32m      3\u001b[0m y\u001b[38;5;241m=\u001b[39mx[::\u001b[38;5;241m-\u001b[39m\u001b[38;5;241m1\u001b[39m]\n\u001b[1;32m----> 4\u001b[0m \u001b[43my\u001b[49m\u001b[38;5;241;43m.\u001b[39;49m\u001b[43mdecode\u001b[49m\u001b[43m(\u001b[49m\u001b[38;5;124;43m'\u001b[39;49m\u001b[38;5;124;43mutf-8\u001b[39;49m\u001b[38;5;124;43m'\u001b[39;49m\u001b[43m)\u001b[49m\n",
      "\u001b[1;31mUnicodeDecodeError\u001b[0m: 'utf-8' codec can't decode byte 0xbe in position 0: invalid start byte"
     ]
    }
   ],
   "source": [
    "w='கிருஷ்ணா'\n",
    "x=w.encode('utf-8')\n",
    "y=x[::-1]\n",
    "y.decode('utf-8')"
   ]
  },
  {
   "cell_type": "code",
   "execution_count": 3,
   "id": "8c72e2c1-d642-4f6a-b228-e4de2c2aa1d4",
   "metadata": {},
   "outputs": [
    {
     "name": "stdout",
     "output_type": "stream",
     "text": [
      "0b111001101001010010000111011100100011110101100111000101001111011\n"
     ]
    }
   ],
   "source": [
    "from random import randint\n",
    "random_bits=0\n",
    "for i in range(64):\n",
    "    if randint(0,1):\n",
    "        random_bits |= 1 << i\n",
    "print(bin(random_bits))"
   ]
  },
  {
   "cell_type": "code",
   "execution_count": 4,
   "id": "a6e5cd68-d7ec-4658-88d5-fb1038b501cf",
   "metadata": {},
   "outputs": [
    {
     "name": "stdout",
     "output_type": "stream",
     "text": [
      "1 : vanilla is delicious\n",
      "2 : chocolate is delicious\n",
      "3 : strawberry is delicious\n"
     ]
    }
   ],
   "source": [
    "flavor_list=['vanilla', 'chocolate','strawberry']\n",
    "for i in range(len(flavor_list)):\n",
    "    flavor = flavor_list[i]\n",
    "    print(\"%d : %s is delicious\" % (i+1,flavor))"
   ]
  },
  {
   "cell_type": "code",
   "execution_count": 5,
   "id": "c107dc51-550e-4678-884d-7f935e541211",
   "metadata": {},
   "outputs": [
    {
     "name": "stdout",
     "output_type": "stream",
     "text": [
      "1 : vanilla is delicious\n",
      "2 : chocolate is delicious\n",
      "3 : strawberry is delicious\n"
     ]
    }
   ],
   "source": [
    "for i, flavor in enumerate(flavor_list,1):\n",
    "     print(\"%d : %s is delicious\" % (i,flavor))"
   ]
  },
  {
   "cell_type": "code",
   "execution_count": 6,
   "id": "0257c950-83dd-40bf-9c81-75ed4c7d7092",
   "metadata": {},
   "outputs": [
    {
     "name": "stdout",
     "output_type": "stream",
     "text": [
      "krishnamoorthy\n"
     ]
    }
   ],
   "source": [
    "names=[\"krishnamoorthy\",\"abirami\", \"tejeshvar\",\"jaahnavi\"]\n",
    "letters = [len(n) for n in names]\n",
    "longest_name=\"\"\n",
    "max_letters=0\n",
    "for i in range(len(names)):\n",
    "    count = letters[i]\n",
    "    if count > max_letters:\n",
    "        longest_name=names[i]\n",
    "        max_letters=count\n",
    "print(longest_name)"
   ]
  },
  {
   "cell_type": "code",
   "execution_count": 7,
   "id": "58da0b40-93b2-417b-b796-ff975116d696",
   "metadata": {},
   "outputs": [
    {
     "data": {
      "text/plain": [
       "[('krishnamoorthy', 14), ('abirami', 7), ('tejeshvar', 9), ('jaahnavi', 8)]"
      ]
     },
     "execution_count": 7,
     "metadata": {},
     "output_type": "execute_result"
    }
   ],
   "source": [
    "list(zip(names, letters))"
   ]
  },
  {
   "cell_type": "code",
   "execution_count": 8,
   "id": "2ae139a6-b460-490b-a857-4442f398052e",
   "metadata": {},
   "outputs": [
    {
     "name": "stdout",
     "output_type": "stream",
     "text": [
      "krishnamoorthy\n"
     ]
    }
   ],
   "source": [
    "names=[\"krishnamoorthy\",\"abirami\", \"tejeshvar\",\"jaahnavi\"]\n",
    "letters = [len(n) for n in names]\n",
    "longest_name=\"\"\n",
    "max_letters=0\n",
    "for name, count in zip(names, letters):\n",
    "    if count > max_letters:\n",
    "        longest_name=name\n",
    "        max_letters=count\n",
    "print(longest_name)      "
   ]
  },
  {
   "cell_type": "code",
   "execution_count": 9,
   "id": "8e5c28ac-3d7c-4d63-9403-4536eb2ed797",
   "metadata": {},
   "outputs": [
    {
     "name": "stdout",
     "output_type": "stream",
     "text": [
      "krishnamoorthy has 14 letters\n",
      "abirami has 7 letters\n",
      "tejeshvar has 9 letters\n",
      "jaahnavi has 8 letters\n"
     ]
    }
   ],
   "source": [
    "names=[\"krishnamoorthy\",\"abirami\", \"tejeshvar\",\"jaahnavi\"]\n",
    "letters = [len(n) for n in names]\n",
    "names.append(\"someone\")\n",
    "for name, count in zip(names, letters):\n",
    "    print(\"%s has %d letters\"%(name, count))"
   ]
  },
  {
   "cell_type": "code",
   "execution_count": 10,
   "id": "c6221560-49ee-462e-9f4b-74b487592d5a",
   "metadata": {},
   "outputs": [
    {
     "name": "stdout",
     "output_type": "stream",
     "text": [
      "krishnamoorthy has 14 letters\n",
      "abirami has 7 letters\n",
      "tejeshvar has 9 letters\n",
      "jaahnavi has 8 letters\n",
      "someone has unknown letters\n"
     ]
    }
   ],
   "source": [
    "from itertools import zip_longest\n",
    "for name, count in zip_longest(names, letters):\n",
    "    if count is None:\n",
    "        print(\"%s has unknown letters\"%name)\n",
    "    else:\n",
    "        print(\"%s has %d letters\"%(name, count))"
   ]
  },
  {
   "cell_type": "code",
   "execution_count": 11,
   "id": "969eec11-60ff-4a00-b76f-cbbd059fa793",
   "metadata": {},
   "outputs": [
    {
     "name": "stdout",
     "output_type": "stream",
     "text": [
      "co-prime\n"
     ]
    }
   ],
   "source": [
    "a=4\n",
    "b=9\n",
    "for i in range(2, min(a,b)+1):\n",
    "    if(a%i==0) and (b%i==0):\n",
    "        print('Not co-prime')\n",
    "        break\n",
    "else:\n",
    "    print('co-prime')"
   ]
  },
  {
   "cell_type": "code",
   "execution_count": 12,
   "id": "58f68f3a-ad77-4cfe-ad09-46e297c10ef0",
   "metadata": {},
   "outputs": [
    {
     "name": "stdout",
     "output_type": "stream",
     "text": [
      "True\n",
      "False\n"
     ]
    }
   ],
   "source": [
    "def coprime(a,b):\n",
    "    for i in range(2, min(a,b)+1):\n",
    "        if(a%i==0) and (b%i==0):\n",
    "            return False\n",
    "    return True\n",
    "print(coprime(4,9))\n",
    "print(coprime(6,9))"
   ]
  },
  {
   "cell_type": "code",
   "execution_count": 13,
   "id": "dedf27ff-445c-494e-9136-00eef76fdf9b",
   "metadata": {},
   "outputs": [
    {
     "name": "stdout",
     "output_type": "stream",
     "text": [
      "True\n",
      "False\n"
     ]
    }
   ],
   "source": [
    "def coprime2(a,b):\n",
    "    is_coprime=True\n",
    "    for i in range(2, min(a,b) +1):\n",
    "        if a%i==0 and b%i==0:\n",
    "            is_coprime=False\n",
    "            break\n",
    "    return is_coprime\n",
    "print(coprime2(4,9))\n",
    "print(coprime2(6,9)) "
   ]
  },
  {
   "cell_type": "code",
   "execution_count": 14,
   "id": "218f6eaf-882e-41ae-acb1-9cf0127b1c34",
   "metadata": {},
   "outputs": [],
   "source": [
    "handle = open(\"dummy.txt\",\"w\",encoding='UTF-8')\n",
    "handle.write(\"கிருஷ்ணமூர்த்தி\\nஅபிராமி\\nதேஜேஷ்வர்\\nஜாஹ்னவி\")\n",
    "handle.close()\n",
    "del handle"
   ]
  },
  {
   "cell_type": "code",
   "execution_count": 15,
   "id": "4a9040ee-42bf-47b9-a2aa-0a7179725a9f",
   "metadata": {},
   "outputs": [
    {
     "name": "stdout",
     "output_type": "stream",
     "text": [
      "[Errno 2] No such file or directory: 'dummy1.txt'\n"
     ]
    },
    {
     "ename": "NameError",
     "evalue": "name 'handle' is not defined",
     "output_type": "error",
     "traceback": [
      "\u001b[1;31m---------------------------------------------------------------------------\u001b[0m",
      "\u001b[1;31mNameError\u001b[0m                                 Traceback (most recent call last)",
      "Cell \u001b[1;32mIn[15], line 10\u001b[0m\n\u001b[0;32m      8\u001b[0m     \u001b[38;5;28mprint\u001b[39m(\u001b[38;5;124m'\u001b[39m\u001b[38;5;124mno exceptions and try completed successfully\u001b[39m\u001b[38;5;124m'\u001b[39m)\n\u001b[0;32m      9\u001b[0m \u001b[38;5;28;01mfinally\u001b[39;00m:\n\u001b[1;32m---> 10\u001b[0m     \u001b[43mhandle\u001b[49m\u001b[38;5;241m.\u001b[39mclose()\n",
      "\u001b[1;31mNameError\u001b[0m: name 'handle' is not defined"
     ]
    }
   ],
   "source": [
    "try:\n",
    "    handle=open(\"dummy1.txt\",\"r\", encoding='utf-8')\n",
    "    data =handle.read()\n",
    "    print(data)\n",
    "except Exception as e:\n",
    "    print(e)\n",
    "else:\n",
    "    print('no exceptions and try completed successfully')\n",
    "finally:\n",
    "    handle.close()\n"
   ]
  },
  {
   "cell_type": "code",
   "execution_count": 16,
   "id": "9b528ebf-94e3-4509-a677-02d327e310cc",
   "metadata": {},
   "outputs": [
    {
     "name": "stdout",
     "output_type": "stream",
     "text": [
      "கிருஷ்ணமூர்த்தி\n",
      "அபிராமி\n",
      "தேஜேஷ்வர்\n",
      "ஜாஹ்னவி\n"
     ]
    }
   ],
   "source": [
    "handle=open(\"dummy.txt\",\"r\", encoding='utf-8')\n",
    "try:\n",
    "    data =handle.read()\n",
    "    print(data)\n",
    "finally:\n",
    "    handle.close()\n"
   ]
  },
  {
   "cell_type": "code",
   "execution_count": 17,
   "id": "4d96fb31-4da3-497d-ab14-9ed21e104079",
   "metadata": {},
   "outputs": [
    {
     "name": "stdout",
     "output_type": "stream",
     "text": [
      "saw keyerror\n"
     ]
    }
   ],
   "source": [
    "import json\n",
    "\n",
    "def load_json_key(data, key):\n",
    "    try:\n",
    "        result_dict = json.loads(data)\n",
    "    except ValueError as e:\n",
    "        raise KeyError from e\n",
    "    else:\n",
    "        return result_dict[key]\n",
    "\n",
    "try:\n",
    "    load_json_key('{\"foo\":\"bar\"}', 'foo1')\n",
    "    assert False\n",
    "except KeyError:\n",
    "    print('saw keyerror')"
   ]
  },
  {
   "cell_type": "code",
   "execution_count": 18,
   "id": "45f7caa1-d472-4afc-a912-60f3dcb82cf2",
   "metadata": {},
   "outputs": [
    {
     "data": {
      "text/plain": [
       "5.0"
      ]
     },
     "execution_count": 18,
     "metadata": {},
     "output_type": "execute_result"
    }
   ],
   "source": [
    "UNDEFINED=object()\n",
    "def divide_json(path):\n",
    "    handle = open(path, \"r+\")\n",
    "    try:\n",
    "        data = handle.read()\n",
    "        op = json.loads(data)\n",
    "        value = op[\"numerator\"] / op[\"denominator\"]\n",
    "    except ZeroDivisionError:\n",
    "        return UNDEFINED\n",
    "    else:\n",
    "        op[\"result\"]=value\n",
    "        result=json.dumps(op)\n",
    "        handle.seek(0)\n",
    "        handle.write(result)\n",
    "        return value\n",
    "    finally:\n",
    "        handle.close()\n",
    "\n",
    "divide_json(\"divide.json\")"
   ]
  },
  {
   "cell_type": "code",
   "execution_count": 19,
   "id": "bb424546-6f6b-4b1a-b7f4-85ab92901849",
   "metadata": {},
   "outputs": [
    {
     "name": "stderr",
     "output_type": "stream",
     "text": [
      "ERROR:root:a real error\n"
     ]
    }
   ],
   "source": [
    "import logging\n",
    "logging.getLogger().setLevel(logging.WARNING)\n",
    "\n",
    "def my_function():\n",
    "    logging.debug('some debug info')\n",
    "    logging.error('a real error');\n",
    "    logging.debug('more debugging')\n",
    "\n",
    "my_function()"
   ]
  },
  {
   "cell_type": "code",
   "execution_count": 20,
   "id": "e24d1fc8-fcd3-4d4d-a207-92d067c92200",
   "metadata": {},
   "outputs": [
    {
     "name": "stderr",
     "output_type": "stream",
     "text": [
      "DEBUG:root:some debug info\n",
      "ERROR:root:a real error\n",
      "DEBUG:root:more debugging\n",
      "ERROR:root:a real error\n"
     ]
    }
   ],
   "source": [
    "from contextlib import contextmanager\n",
    "\n",
    "@contextmanager\n",
    "def debug_logging(level):\n",
    "    logger = logging.getLogger()\n",
    "    old_level = logger.getEffectiveLevel()\n",
    "    logger.setLevel(level)\n",
    "    try:\n",
    "        yield\n",
    "    finally:\n",
    "        logger.setLevel(old_level)\n",
    "\n",
    "with debug_logging(logging.DEBUG):\n",
    "    my_function()\n",
    "\n",
    "my_function()"
   ]
  },
  {
   "cell_type": "code",
   "execution_count": 21,
   "id": "c92a2995-9c73-44c9-8e2d-ab6878c1408d",
   "metadata": {},
   "outputs": [
    {
     "name": "stderr",
     "output_type": "stream",
     "text": [
      "ERROR:root:Swallowing exception\n",
      "Traceback (most recent call last):\n",
      "  File \"C:\\Users\\Krishnamoorthy\\AppData\\Local\\Temp\\ipykernel_20572\\4240350083.py\", line 6, in swallow_exception\n",
      "    yield\n",
      "  File \"C:\\Users\\Krishnamoorthy\\AppData\\Local\\Temp\\ipykernel_20572\\4240350083.py\", line 12, in <module>\n",
      "    value /= 0\n",
      "ZeroDivisionError: division by zero\n"
     ]
    },
    {
     "name": "stdout",
     "output_type": "stream",
     "text": [
      "done\n"
     ]
    }
   ],
   "source": [
    "from contextlib import contextmanager\n",
    "\n",
    "@contextmanager\n",
    "def swallow_exception(cls):\n",
    "    try:\n",
    "        yield\n",
    "    except cls:\n",
    "        logging.exception('Swallowing exception')\n",
    "\n",
    "value=20\n",
    "with swallow_exception(ZeroDivisionError):\n",
    "    value /= 0\n",
    "print('done')"
   ]
  },
  {
   "cell_type": "code",
   "execution_count": 22,
   "id": "aec25ab0-cf0d-42ca-9016-79c6c9a1bbd2",
   "metadata": {},
   "outputs": [
    {
     "name": "stderr",
     "output_type": "stream",
     "text": [
      "DEBUG:my-log:Logging from my-log logger\n",
      "ERROR:my-log:Error from my-log logger\n"
     ]
    }
   ],
   "source": [
    "@contextmanager\n",
    "def get_logger(name, level):\n",
    "    logger = logging.getLogger(name)\n",
    "    old_level = logger.getEffectiveLevel()\n",
    "    logger.setLevel(level)\n",
    "    try:\n",
    "        yield logger\n",
    "    finally:\n",
    "        logger.setLevel(old_level)\n",
    "\n",
    "with get_logger('my-log', logging.DEBUG) as logger:\n",
    "    logging.getLogger().debug('Logging from global logger');\n",
    "    logger.debug('Logging from my-log logger');\n",
    "\n",
    "logger.debug('Logging from my-log logger after reset');\n",
    "logger.error('Error from my-log logger');"
   ]
  },
  {
   "cell_type": "code",
   "execution_count": null,
   "id": "9047d49d-e080-40be-b835-7b5a4bc15a23",
   "metadata": {},
   "outputs": [],
   "source": []
  }
 ],
 "metadata": {
  "kernelspec": {
   "display_name": "Python 3 (ipykernel)",
   "language": "python",
   "name": "python3"
  },
  "language_info": {
   "codemirror_mode": {
    "name": "ipython",
    "version": 3
   },
   "file_extension": ".py",
   "mimetype": "text/x-python",
   "name": "python",
   "nbconvert_exporter": "python",
   "pygments_lexer": "ipython3",
   "version": "3.12.0"
  }
 },
 "nbformat": 4,
 "nbformat_minor": 5
}
